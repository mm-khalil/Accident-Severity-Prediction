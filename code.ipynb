{
 "cells": [
  {
   "cell_type": "markdown",
   "id": "c9a1733b",
   "metadata": {},
   "source": [
    "# <h1><center>Project</center></h1>"
   ]
  },
  {
   "cell_type": "markdown",
   "id": "141f4f47",
   "metadata": {},
   "source": [
    "# <h2><center><span style='color:black'>  Machine Learning </span></center></h2>"
   ]
  },
  {
   "cell_type": "markdown",
   "id": "77676d87",
   "metadata": {},
   "source": [
    "# <h1><center><span style='color:blue'>   Analysis of Bi-Cycle Accidents </span></center></h1>"
   ]
  },
  {
   "cell_type": "markdown",
   "id": "4baf2a99",
   "metadata": {},
   "source": [
    "# <h2><center>Professor : Travis Millburn</center></h2>"
   ]
  },
  {
   "cell_type": "markdown",
   "id": "7ddd2849",
   "metadata": {},
   "source": [
    "# <p><h3><center>Malik Muhammad Khalil </center><h3></p>\n",
    "\n"
   ]
  },
  {
   "cell_type": "markdown",
   "id": "2586208e",
   "metadata": {},
   "source": [
    "# Summary:"
   ]
  },
  {
   "cell_type": "markdown",
   "id": "6b5a7900",
   "metadata": {},
   "source": [
    "                   Topic of my project is 'the Analysis of Bi-cycle Accidents', which include different kinds of reasons, important ones are: Age, Weather conditions, Time, Day, Month and Severity of Accident among all other causes which are included in the causes of accident happening. \n",
    "                   First of all I uploaded the datasets, after combination of datasets I do some Pre-processing on it, in order to clean it and make it ready for giving to the models for prediction.\n",
    "                   After that, as because of many reasons or causes involve in accident happening that's why, I generate different quries and then from the main dataset I take some Features according to the Query and then from that features I make new datasets and then analyze the correlation between different features by using Heat maps, in order to check which feature have more influence on other that can cause accident.\n",
    "                   Before Giving dataframe in the hand of model, I apply some scalar techniques to increase the predicition capability of models.\n",
    "                   I use almost all the models, to check Accuracy of each model and then in the final report I just left with my 2 highest accurate models namely: Decision Tree Classifier and K-Nearest Neghbiour Classifier and their output is shown by Error Matrix, and also to further improve my results accuracy, I use Ensemble method called Super-Learner in which, I combine both these Classifiers in 1st Layer and in 2nd Layer Bagging Classifier is used, but the prediction accuracy remains same as it occurs in classifiers output.\n",
    "                   "
   ]
  },
  {
   "cell_type": "markdown",
   "id": "439c394e",
   "metadata": {},
   "source": [
    "# Libraries"
   ]
  },
  {
   "cell_type": "code",
   "execution_count": 2,
   "id": "994a68c2",
   "metadata": {},
   "outputs": [],
   "source": [
    "#Importing Libraries that will use in code\n",
    "import pandas as pd\n",
    "import numpy as np\n",
    "import sklearn \n",
    "import matplotlib.pyplot as plt\n",
    "import seaborn as sns\n",
    "%matplotlib inline"
   ]
  },
  {
   "cell_type": "markdown",
   "id": "a421b847",
   "metadata": {},
   "source": [
    "# Importing Datasets"
   ]
  },
  {
   "cell_type": "code",
   "execution_count": 3,
   "id": "bc7598a9",
   "metadata": {},
   "outputs": [
    {
     "data": {
      "text/html": [
       "<div>\n",
       "<style scoped>\n",
       "    .dataframe tbody tr th:only-of-type {\n",
       "        vertical-align: middle;\n",
       "    }\n",
       "\n",
       "    .dataframe tbody tr th {\n",
       "        vertical-align: top;\n",
       "    }\n",
       "\n",
       "    .dataframe thead th {\n",
       "        text-align: right;\n",
       "    }\n",
       "</style>\n",
       "<table border=\"1\" class=\"dataframe\">\n",
       "  <thead>\n",
       "    <tr style=\"text-align: right;\">\n",
       "      <th></th>\n",
       "      <th>Accident_Index</th>\n",
       "      <th>Gender</th>\n",
       "      <th>Severity</th>\n",
       "      <th>Age_Grp</th>\n",
       "    </tr>\n",
       "  </thead>\n",
       "  <tbody>\n",
       "    <tr>\n",
       "      <th>0</th>\n",
       "      <td>197901A1SEE71</td>\n",
       "      <td>Male</td>\n",
       "      <td>Serious</td>\n",
       "      <td>36 to 45</td>\n",
       "    </tr>\n",
       "    <tr>\n",
       "      <th>1</th>\n",
       "      <td>197901A2JDW40</td>\n",
       "      <td>Male</td>\n",
       "      <td>Slight</td>\n",
       "      <td>46 to 55</td>\n",
       "    </tr>\n",
       "    <tr>\n",
       "      <th>2</th>\n",
       "      <td>197901A4IJV90</td>\n",
       "      <td>Male</td>\n",
       "      <td>Slight</td>\n",
       "      <td>46 to 55</td>\n",
       "    </tr>\n",
       "    <tr>\n",
       "      <th>3</th>\n",
       "      <td>197901A4NIE33</td>\n",
       "      <td>Male</td>\n",
       "      <td>Slight</td>\n",
       "      <td>36 to 45</td>\n",
       "    </tr>\n",
       "    <tr>\n",
       "      <th>4</th>\n",
       "      <td>197901A4SKO47</td>\n",
       "      <td>Male</td>\n",
       "      <td>Slight</td>\n",
       "      <td>46 to 55</td>\n",
       "    </tr>\n",
       "  </tbody>\n",
       "</table>\n",
       "</div>"
      ],
      "text/plain": [
       "  Accident_Index Gender Severity   Age_Grp\n",
       "0  197901A1SEE71   Male  Serious  36 to 45\n",
       "1  197901A2JDW40   Male   Slight  46 to 55\n",
       "2  197901A4IJV90   Male   Slight  46 to 55\n",
       "3  197901A4NIE33   Male   Slight  36 to 45\n",
       "4  197901A4SKO47   Male   Slight  46 to 55"
      ]
     },
     "execution_count": 3,
     "metadata": {},
     "output_type": "execute_result"
    }
   ],
   "source": [
    "#Uploading Dataset having Bikers Details\n",
    "bikers = pd.read_csv(r'C:\\Users\\khalil\\ML Project\\Bikers.csv')\n",
    "bikers.head()"
   ]
  },
  {
   "cell_type": "code",
   "execution_count": 4,
   "id": "31c59f3b",
   "metadata": {},
   "outputs": [
    {
     "data": {
      "text/html": [
       "<div>\n",
       "<style scoped>\n",
       "    .dataframe tbody tr th:only-of-type {\n",
       "        vertical-align: middle;\n",
       "    }\n",
       "\n",
       "    .dataframe tbody tr th {\n",
       "        vertical-align: top;\n",
       "    }\n",
       "\n",
       "    .dataframe thead th {\n",
       "        text-align: right;\n",
       "    }\n",
       "</style>\n",
       "<table border=\"1\" class=\"dataframe\">\n",
       "  <thead>\n",
       "    <tr style=\"text-align: right;\">\n",
       "      <th></th>\n",
       "      <th>Accident_Index</th>\n",
       "      <th>Number_of_Vehicles</th>\n",
       "      <th>Number_of_Casualties</th>\n",
       "      <th>Date</th>\n",
       "      <th>Time</th>\n",
       "      <th>Speed_limit</th>\n",
       "      <th>Road_conditions</th>\n",
       "      <th>Weather_conditions</th>\n",
       "      <th>Day</th>\n",
       "      <th>Road_type</th>\n",
       "      <th>Light_conditions</th>\n",
       "    </tr>\n",
       "  </thead>\n",
       "  <tbody>\n",
       "    <tr>\n",
       "      <th>0</th>\n",
       "      <td>197901A1SEE71</td>\n",
       "      <td>2</td>\n",
       "      <td>1</td>\n",
       "      <td>1979-01-01</td>\n",
       "      <td>18:20</td>\n",
       "      <td>50.0</td>\n",
       "      <td>Snow</td>\n",
       "      <td>Unknown</td>\n",
       "      <td>Monday</td>\n",
       "      <td>Dual carriageway</td>\n",
       "      <td>Darkness lights lit</td>\n",
       "    </tr>\n",
       "    <tr>\n",
       "      <th>1</th>\n",
       "      <td>197901A2JDW40</td>\n",
       "      <td>1</td>\n",
       "      <td>1</td>\n",
       "      <td>1979-02-01</td>\n",
       "      <td>09:15</td>\n",
       "      <td>30.0</td>\n",
       "      <td>Snow</td>\n",
       "      <td>Unknown</td>\n",
       "      <td>Tuesday</td>\n",
       "      <td>Unknown</td>\n",
       "      <td>Daylight</td>\n",
       "    </tr>\n",
       "    <tr>\n",
       "      <th>2</th>\n",
       "      <td>197901A4IJV90</td>\n",
       "      <td>2</td>\n",
       "      <td>1</td>\n",
       "      <td>1979-04-01</td>\n",
       "      <td>08:45</td>\n",
       "      <td>30.0</td>\n",
       "      <td>Snow</td>\n",
       "      <td>Unknown</td>\n",
       "      <td>Thursday</td>\n",
       "      <td>Unknown</td>\n",
       "      <td>Daylight</td>\n",
       "    </tr>\n",
       "    <tr>\n",
       "      <th>3</th>\n",
       "      <td>197901A4NIE33</td>\n",
       "      <td>2</td>\n",
       "      <td>1</td>\n",
       "      <td>1979-04-01</td>\n",
       "      <td>13:40</td>\n",
       "      <td>30.0</td>\n",
       "      <td>Wet</td>\n",
       "      <td>Unknown</td>\n",
       "      <td>Thursday</td>\n",
       "      <td>Unknown</td>\n",
       "      <td>Daylight</td>\n",
       "    </tr>\n",
       "    <tr>\n",
       "      <th>4</th>\n",
       "      <td>197901A4SKO47</td>\n",
       "      <td>2</td>\n",
       "      <td>1</td>\n",
       "      <td>1979-04-01</td>\n",
       "      <td>18:50</td>\n",
       "      <td>30.0</td>\n",
       "      <td>Wet</td>\n",
       "      <td>Unknown</td>\n",
       "      <td>Thursday</td>\n",
       "      <td>Unknown</td>\n",
       "      <td>Darkness lights lit</td>\n",
       "    </tr>\n",
       "  </tbody>\n",
       "</table>\n",
       "</div>"
      ],
      "text/plain": [
       "  Accident_Index  Number_of_Vehicles  Number_of_Casualties        Date   Time  \\\n",
       "0  197901A1SEE71                   2                     1  1979-01-01  18:20   \n",
       "1  197901A2JDW40                   1                     1  1979-02-01  09:15   \n",
       "2  197901A4IJV90                   2                     1  1979-04-01  08:45   \n",
       "3  197901A4NIE33                   2                     1  1979-04-01  13:40   \n",
       "4  197901A4SKO47                   2                     1  1979-04-01  18:50   \n",
       "\n",
       "   Speed_limit Road_conditions Weather_conditions       Day         Road_type  \\\n",
       "0         50.0            Snow            Unknown    Monday  Dual carriageway   \n",
       "1         30.0            Snow            Unknown   Tuesday           Unknown   \n",
       "2         30.0            Snow            Unknown  Thursday           Unknown   \n",
       "3         30.0             Wet            Unknown  Thursday           Unknown   \n",
       "4         30.0             Wet            Unknown  Thursday           Unknown   \n",
       "\n",
       "      Light_conditions  \n",
       "0  Darkness lights lit  \n",
       "1             Daylight  \n",
       "2             Daylight  \n",
       "3             Daylight  \n",
       "4  Darkness lights lit  "
      ]
     },
     "execution_count": 4,
     "metadata": {},
     "output_type": "execute_result"
    }
   ],
   "source": [
    "#Uploading Dataset having Accidents details\n",
    "accidents = pd.read_csv(r'C:\\Users\\khalil\\ML Project\\Accidents.csv')\n",
    "accidents.head()"
   ]
  },
  {
   "cell_type": "code",
   "execution_count": 5,
   "id": "b5497294",
   "metadata": {},
   "outputs": [],
   "source": [
    "#Converting Datasets into Pandas DataFrames\n",
    "bikers_df = pd.DataFrame(bikers)  \n",
    "accidents_df = pd.DataFrame(accidents)"
   ]
  },
  {
   "cell_type": "code",
   "execution_count": 6,
   "id": "d6f37615",
   "metadata": {},
   "outputs": [
    {
     "data": {
      "text/html": [
       "<div>\n",
       "<style scoped>\n",
       "    .dataframe tbody tr th:only-of-type {\n",
       "        vertical-align: middle;\n",
       "    }\n",
       "\n",
       "    .dataframe tbody tr th {\n",
       "        vertical-align: top;\n",
       "    }\n",
       "\n",
       "    .dataframe thead th {\n",
       "        text-align: right;\n",
       "    }\n",
       "</style>\n",
       "<table border=\"1\" class=\"dataframe\">\n",
       "  <thead>\n",
       "    <tr style=\"text-align: right;\">\n",
       "      <th></th>\n",
       "      <th>Accident_Index</th>\n",
       "      <th>Gender</th>\n",
       "      <th>Severity</th>\n",
       "      <th>Age_Grp</th>\n",
       "      <th>Number_of_Vehicles</th>\n",
       "      <th>Number_of_Casualties</th>\n",
       "      <th>Date</th>\n",
       "      <th>Time</th>\n",
       "      <th>Speed_limit</th>\n",
       "      <th>Road_conditions</th>\n",
       "      <th>Weather_conditions</th>\n",
       "      <th>Day</th>\n",
       "      <th>Road_type</th>\n",
       "      <th>Light_conditions</th>\n",
       "    </tr>\n",
       "  </thead>\n",
       "  <tbody>\n",
       "    <tr>\n",
       "      <th>0</th>\n",
       "      <td>197901A1SEE71</td>\n",
       "      <td>Male</td>\n",
       "      <td>Serious</td>\n",
       "      <td>36 to 45</td>\n",
       "      <td>2</td>\n",
       "      <td>1</td>\n",
       "      <td>1979-01-01</td>\n",
       "      <td>18:20</td>\n",
       "      <td>50.0</td>\n",
       "      <td>Snow</td>\n",
       "      <td>Unknown</td>\n",
       "      <td>Monday</td>\n",
       "      <td>Dual carriageway</td>\n",
       "      <td>Darkness lights lit</td>\n",
       "    </tr>\n",
       "    <tr>\n",
       "      <th>1</th>\n",
       "      <td>197901A2JDW40</td>\n",
       "      <td>Male</td>\n",
       "      <td>Slight</td>\n",
       "      <td>46 to 55</td>\n",
       "      <td>1</td>\n",
       "      <td>1</td>\n",
       "      <td>1979-02-01</td>\n",
       "      <td>09:15</td>\n",
       "      <td>30.0</td>\n",
       "      <td>Snow</td>\n",
       "      <td>Unknown</td>\n",
       "      <td>Tuesday</td>\n",
       "      <td>Unknown</td>\n",
       "      <td>Daylight</td>\n",
       "    </tr>\n",
       "    <tr>\n",
       "      <th>2</th>\n",
       "      <td>197901A4IJV90</td>\n",
       "      <td>Male</td>\n",
       "      <td>Slight</td>\n",
       "      <td>46 to 55</td>\n",
       "      <td>2</td>\n",
       "      <td>1</td>\n",
       "      <td>1979-04-01</td>\n",
       "      <td>08:45</td>\n",
       "      <td>30.0</td>\n",
       "      <td>Snow</td>\n",
       "      <td>Unknown</td>\n",
       "      <td>Thursday</td>\n",
       "      <td>Unknown</td>\n",
       "      <td>Daylight</td>\n",
       "    </tr>\n",
       "    <tr>\n",
       "      <th>3</th>\n",
       "      <td>197901A4NIE33</td>\n",
       "      <td>Male</td>\n",
       "      <td>Slight</td>\n",
       "      <td>36 to 45</td>\n",
       "      <td>2</td>\n",
       "      <td>1</td>\n",
       "      <td>1979-04-01</td>\n",
       "      <td>13:40</td>\n",
       "      <td>30.0</td>\n",
       "      <td>Wet</td>\n",
       "      <td>Unknown</td>\n",
       "      <td>Thursday</td>\n",
       "      <td>Unknown</td>\n",
       "      <td>Daylight</td>\n",
       "    </tr>\n",
       "    <tr>\n",
       "      <th>4</th>\n",
       "      <td>197901A4SKO47</td>\n",
       "      <td>Male</td>\n",
       "      <td>Slight</td>\n",
       "      <td>46 to 55</td>\n",
       "      <td>2</td>\n",
       "      <td>1</td>\n",
       "      <td>1979-04-01</td>\n",
       "      <td>18:50</td>\n",
       "      <td>30.0</td>\n",
       "      <td>Wet</td>\n",
       "      <td>Unknown</td>\n",
       "      <td>Thursday</td>\n",
       "      <td>Unknown</td>\n",
       "      <td>Darkness lights lit</td>\n",
       "    </tr>\n",
       "  </tbody>\n",
       "</table>\n",
       "</div>"
      ],
      "text/plain": [
       "  Accident_Index Gender Severity   Age_Grp  Number_of_Vehicles  \\\n",
       "0  197901A1SEE71   Male  Serious  36 to 45                   2   \n",
       "1  197901A2JDW40   Male   Slight  46 to 55                   1   \n",
       "2  197901A4IJV90   Male   Slight  46 to 55                   2   \n",
       "3  197901A4NIE33   Male   Slight  36 to 45                   2   \n",
       "4  197901A4SKO47   Male   Slight  46 to 55                   2   \n",
       "\n",
       "   Number_of_Casualties        Date   Time  Speed_limit Road_conditions  \\\n",
       "0                     1  1979-01-01  18:20         50.0            Snow   \n",
       "1                     1  1979-02-01  09:15         30.0            Snow   \n",
       "2                     1  1979-04-01  08:45         30.0            Snow   \n",
       "3                     1  1979-04-01  13:40         30.0             Wet   \n",
       "4                     1  1979-04-01  18:50         30.0             Wet   \n",
       "\n",
       "  Weather_conditions       Day         Road_type     Light_conditions  \n",
       "0            Unknown    Monday  Dual carriageway  Darkness lights lit  \n",
       "1            Unknown   Tuesday           Unknown             Daylight  \n",
       "2            Unknown  Thursday           Unknown             Daylight  \n",
       "3            Unknown  Thursday           Unknown             Daylight  \n",
       "4            Unknown  Thursday           Unknown  Darkness lights lit  "
      ]
     },
     "execution_count": 6,
     "metadata": {},
     "output_type": "execute_result"
    }
   ],
   "source": [
    "#Merging both DataFrames into 1, based on the Accident Index\n",
    "df =pd.merge(bikers_df,accidents_df)\n",
    "df.head()"
   ]
  },
  {
   "cell_type": "markdown",
   "id": "126af989",
   "metadata": {},
   "source": [
    "# Pre-Processing on DataFrame"
   ]
  },
  {
   "cell_type": "code",
   "execution_count": 7,
   "id": "d5c73487",
   "metadata": {},
   "outputs": [
    {
     "data": {
      "text/html": [
       "<div>\n",
       "<style scoped>\n",
       "    .dataframe tbody tr th:only-of-type {\n",
       "        vertical-align: middle;\n",
       "    }\n",
       "\n",
       "    .dataframe tbody tr th {\n",
       "        vertical-align: top;\n",
       "    }\n",
       "\n",
       "    .dataframe thead th {\n",
       "        text-align: right;\n",
       "    }\n",
       "</style>\n",
       "<table border=\"1\" class=\"dataframe\">\n",
       "  <thead>\n",
       "    <tr style=\"text-align: right;\">\n",
       "      <th></th>\n",
       "      <th>Gender</th>\n",
       "      <th>Severity</th>\n",
       "      <th>Age_Grp</th>\n",
       "      <th>Number_of_Vehicles</th>\n",
       "      <th>Number_of_Casualties</th>\n",
       "      <th>Date</th>\n",
       "      <th>Time</th>\n",
       "      <th>Speed_limit</th>\n",
       "      <th>Road_conditions</th>\n",
       "      <th>Weather_conditions</th>\n",
       "      <th>Day</th>\n",
       "      <th>Road_type</th>\n",
       "      <th>Light_conditions</th>\n",
       "    </tr>\n",
       "  </thead>\n",
       "  <tbody>\n",
       "    <tr>\n",
       "      <th>0</th>\n",
       "      <td>Male</td>\n",
       "      <td>Serious</td>\n",
       "      <td>36 to 45</td>\n",
       "      <td>2</td>\n",
       "      <td>1</td>\n",
       "      <td>1979-01-01</td>\n",
       "      <td>18:20</td>\n",
       "      <td>50.0</td>\n",
       "      <td>Snow</td>\n",
       "      <td>0</td>\n",
       "      <td>Monday</td>\n",
       "      <td>Dual carriageway</td>\n",
       "      <td>Darkness lights lit</td>\n",
       "    </tr>\n",
       "    <tr>\n",
       "      <th>1</th>\n",
       "      <td>Male</td>\n",
       "      <td>Slight</td>\n",
       "      <td>46 to 55</td>\n",
       "      <td>1</td>\n",
       "      <td>1</td>\n",
       "      <td>1979-02-01</td>\n",
       "      <td>09:15</td>\n",
       "      <td>30.0</td>\n",
       "      <td>Snow</td>\n",
       "      <td>0</td>\n",
       "      <td>Tuesday</td>\n",
       "      <td>0</td>\n",
       "      <td>Daylight</td>\n",
       "    </tr>\n",
       "    <tr>\n",
       "      <th>2</th>\n",
       "      <td>Male</td>\n",
       "      <td>Slight</td>\n",
       "      <td>46 to 55</td>\n",
       "      <td>2</td>\n",
       "      <td>1</td>\n",
       "      <td>1979-04-01</td>\n",
       "      <td>08:45</td>\n",
       "      <td>30.0</td>\n",
       "      <td>Snow</td>\n",
       "      <td>0</td>\n",
       "      <td>Thursday</td>\n",
       "      <td>0</td>\n",
       "      <td>Daylight</td>\n",
       "    </tr>\n",
       "    <tr>\n",
       "      <th>3</th>\n",
       "      <td>Male</td>\n",
       "      <td>Slight</td>\n",
       "      <td>36 to 45</td>\n",
       "      <td>2</td>\n",
       "      <td>1</td>\n",
       "      <td>1979-04-01</td>\n",
       "      <td>13:40</td>\n",
       "      <td>30.0</td>\n",
       "      <td>Wet</td>\n",
       "      <td>0</td>\n",
       "      <td>Thursday</td>\n",
       "      <td>0</td>\n",
       "      <td>Daylight</td>\n",
       "    </tr>\n",
       "    <tr>\n",
       "      <th>4</th>\n",
       "      <td>Male</td>\n",
       "      <td>Slight</td>\n",
       "      <td>46 to 55</td>\n",
       "      <td>2</td>\n",
       "      <td>1</td>\n",
       "      <td>1979-04-01</td>\n",
       "      <td>18:50</td>\n",
       "      <td>30.0</td>\n",
       "      <td>Wet</td>\n",
       "      <td>0</td>\n",
       "      <td>Thursday</td>\n",
       "      <td>0</td>\n",
       "      <td>Darkness lights lit</td>\n",
       "    </tr>\n",
       "  </tbody>\n",
       "</table>\n",
       "</div>"
      ],
      "text/plain": [
       "  Gender Severity   Age_Grp  Number_of_Vehicles  Number_of_Casualties  \\\n",
       "0   Male  Serious  36 to 45                   2                     1   \n",
       "1   Male   Slight  46 to 55                   1                     1   \n",
       "2   Male   Slight  46 to 55                   2                     1   \n",
       "3   Male   Slight  36 to 45                   2                     1   \n",
       "4   Male   Slight  46 to 55                   2                     1   \n",
       "\n",
       "         Date   Time  Speed_limit Road_conditions Weather_conditions  \\\n",
       "0  1979-01-01  18:20         50.0            Snow                 0    \n",
       "1  1979-02-01  09:15         30.0            Snow                 0    \n",
       "2  1979-04-01  08:45         30.0            Snow                 0    \n",
       "3  1979-04-01  13:40         30.0             Wet                 0    \n",
       "4  1979-04-01  18:50         30.0             Wet                 0    \n",
       "\n",
       "        Day         Road_type     Light_conditions  \n",
       "0    Monday  Dual carriageway  Darkness lights lit  \n",
       "1   Tuesday                0              Daylight  \n",
       "2  Thursday                0              Daylight  \n",
       "3  Thursday                0              Daylight  \n",
       "4  Thursday                0   Darkness lights lit  "
      ]
     },
     "execution_count": 7,
     "metadata": {},
     "output_type": "execute_result"
    }
   ],
   "source": [
    "df = df .replace('Unknown','0 ', regex=True) #Rows having Unkonwn Entries converted into 0\n",
    "del df['Accident_Index'] #Column Accident Index is Droped because No Need and its values are not able to use for processing\n",
    "df.head()"
   ]
  },
  {
   "cell_type": "code",
   "execution_count": 8,
   "id": "543c188e",
   "metadata": {},
   "outputs": [
    {
     "name": "stdout",
     "output_type": "stream",
     "text": [
      "<class 'pandas.core.frame.DataFrame'>\n",
      "Int64Index: 827861 entries, 0 to 827860\n",
      "Data columns (total 13 columns):\n",
      " #   Column                Non-Null Count   Dtype  \n",
      "---  ------                --------------   -----  \n",
      " 0   Gender                827861 non-null  object \n",
      " 1   Severity              827861 non-null  object \n",
      " 2   Age_Grp               827861 non-null  object \n",
      " 3   Number_of_Vehicles    827861 non-null  int64  \n",
      " 4   Number_of_Casualties  827861 non-null  int64  \n",
      " 5   Date                  827861 non-null  object \n",
      " 6   Time                  827861 non-null  object \n",
      " 7   Speed_limit           827861 non-null  float64\n",
      " 8   Road_conditions       827861 non-null  object \n",
      " 9   Weather_conditions    827861 non-null  object \n",
      " 10  Day                   827861 non-null  object \n",
      " 11  Road_type             827861 non-null  object \n",
      " 12  Light_conditions      827861 non-null  object \n",
      "dtypes: float64(1), int64(2), object(10)\n",
      "memory usage: 88.4+ MB\n"
     ]
    }
   ],
   "source": [
    "df.info() #Getting information of dataframe Columns "
   ]
  },
  {
   "cell_type": "code",
   "execution_count": 9,
   "id": "90be9986",
   "metadata": {},
   "outputs": [
    {
     "data": {
      "text/plain": [
       "Gender                   object\n",
       "Severity                 object\n",
       "Age_Grp                  object\n",
       "Number_of_Vehicles        int64\n",
       "Number_of_Casualties      int64\n",
       "Date                     object\n",
       "Time                     object\n",
       "Speed_limit             float64\n",
       "Road_conditions          object\n",
       "Weather_conditions       object\n",
       "Day                      object\n",
       "Road_type                object\n",
       "Light_conditions         object\n",
       "dtype: object"
      ]
     },
     "execution_count": 9,
     "metadata": {},
     "output_type": "execute_result"
    }
   ],
   "source": [
    "df.dtypes #Same as above for confirmation about the types of columns of dataframe"
   ]
  },
  {
   "cell_type": "code",
   "execution_count": 10,
   "id": "a066c5c0",
   "metadata": {},
   "outputs": [],
   "source": [
    "#I select Label Encoder as a pre-processing tool to work on dataframe values to convert their types and values into Integer \n",
    "#form so that it become easy for processing than as a string entries\n",
    "from sklearn.preprocessing import LabelEncoder\n",
    "for column in df.columns:\n",
    "    if df[column].dtype == type(object):\n",
    "        le = sklearn.preprocessing.LabelEncoder()\n",
    "        df[column] = le.fit_transform(df[column])"
   ]
  },
  {
   "cell_type": "code",
   "execution_count": 11,
   "id": "69e50ca5",
   "metadata": {},
   "outputs": [
    {
     "data": {
      "text/plain": [
       "Gender                    int32\n",
       "Severity                  int32\n",
       "Age_Grp                   int32\n",
       "Number_of_Vehicles        int64\n",
       "Number_of_Casualties      int64\n",
       "Date                      int32\n",
       "Time                      int32\n",
       "Speed_limit             float64\n",
       "Road_conditions           int32\n",
       "Weather_conditions        int32\n",
       "Day                       int32\n",
       "Road_type                 int32\n",
       "Light_conditions          int32\n",
       "dtype: object"
      ]
     },
     "execution_count": 11,
     "metadata": {},
     "output_type": "execute_result"
    }
   ],
   "source": [
    "df.dtypes  #Know data-types are changed and its easy to further process the dataframe"
   ]
  },
  {
   "cell_type": "code",
   "execution_count": 12,
   "id": "a732808a",
   "metadata": {},
   "outputs": [
    {
     "data": {
      "text/html": [
       "<div>\n",
       "<style scoped>\n",
       "    .dataframe tbody tr th:only-of-type {\n",
       "        vertical-align: middle;\n",
       "    }\n",
       "\n",
       "    .dataframe tbody tr th {\n",
       "        vertical-align: top;\n",
       "    }\n",
       "\n",
       "    .dataframe thead th {\n",
       "        text-align: right;\n",
       "    }\n",
       "</style>\n",
       "<table border=\"1\" class=\"dataframe\">\n",
       "  <thead>\n",
       "    <tr style=\"text-align: right;\">\n",
       "      <th></th>\n",
       "      <th>Gender</th>\n",
       "      <th>Severity</th>\n",
       "      <th>Age_Grp</th>\n",
       "      <th>Number_of_Vehicles</th>\n",
       "      <th>Number_of_Casualties</th>\n",
       "      <th>Date</th>\n",
       "      <th>Time</th>\n",
       "      <th>Speed_limit</th>\n",
       "      <th>Road_conditions</th>\n",
       "      <th>Weather_conditions</th>\n",
       "      <th>Day</th>\n",
       "      <th>Road_type</th>\n",
       "      <th>Light_conditions</th>\n",
       "    </tr>\n",
       "  </thead>\n",
       "  <tbody>\n",
       "    <tr>\n",
       "      <th>0</th>\n",
       "      <td>1</td>\n",
       "      <td>1</td>\n",
       "      <td>4</td>\n",
       "      <td>2</td>\n",
       "      <td>1</td>\n",
       "      <td>0</td>\n",
       "      <td>1098</td>\n",
       "      <td>50.0</td>\n",
       "      <td>4</td>\n",
       "      <td>0</td>\n",
       "      <td>1</td>\n",
       "      <td>1</td>\n",
       "      <td>0</td>\n",
       "    </tr>\n",
       "    <tr>\n",
       "      <th>1</th>\n",
       "      <td>1</td>\n",
       "      <td>2</td>\n",
       "      <td>5</td>\n",
       "      <td>1</td>\n",
       "      <td>1</td>\n",
       "      <td>31</td>\n",
       "      <td>553</td>\n",
       "      <td>30.0</td>\n",
       "      <td>4</td>\n",
       "      <td>0</td>\n",
       "      <td>5</td>\n",
       "      <td>0</td>\n",
       "      <td>2</td>\n",
       "    </tr>\n",
       "    <tr>\n",
       "      <th>2</th>\n",
       "      <td>1</td>\n",
       "      <td>2</td>\n",
       "      <td>5</td>\n",
       "      <td>2</td>\n",
       "      <td>1</td>\n",
       "      <td>90</td>\n",
       "      <td>523</td>\n",
       "      <td>30.0</td>\n",
       "      <td>4</td>\n",
       "      <td>0</td>\n",
       "      <td>4</td>\n",
       "      <td>0</td>\n",
       "      <td>2</td>\n",
       "    </tr>\n",
       "    <tr>\n",
       "      <th>3</th>\n",
       "      <td>1</td>\n",
       "      <td>2</td>\n",
       "      <td>4</td>\n",
       "      <td>2</td>\n",
       "      <td>1</td>\n",
       "      <td>90</td>\n",
       "      <td>818</td>\n",
       "      <td>30.0</td>\n",
       "      <td>5</td>\n",
       "      <td>0</td>\n",
       "      <td>4</td>\n",
       "      <td>0</td>\n",
       "      <td>2</td>\n",
       "    </tr>\n",
       "    <tr>\n",
       "      <th>4</th>\n",
       "      <td>1</td>\n",
       "      <td>2</td>\n",
       "      <td>5</td>\n",
       "      <td>2</td>\n",
       "      <td>1</td>\n",
       "      <td>90</td>\n",
       "      <td>1128</td>\n",
       "      <td>30.0</td>\n",
       "      <td>5</td>\n",
       "      <td>0</td>\n",
       "      <td>4</td>\n",
       "      <td>0</td>\n",
       "      <td>0</td>\n",
       "    </tr>\n",
       "  </tbody>\n",
       "</table>\n",
       "</div>"
      ],
      "text/plain": [
       "   Gender  Severity  Age_Grp  Number_of_Vehicles  Number_of_Casualties  Date  \\\n",
       "0       1         1        4                   2                     1     0   \n",
       "1       1         2        5                   1                     1    31   \n",
       "2       1         2        5                   2                     1    90   \n",
       "3       1         2        4                   2                     1    90   \n",
       "4       1         2        5                   2                     1    90   \n",
       "\n",
       "   Time  Speed_limit  Road_conditions  Weather_conditions  Day  Road_type  \\\n",
       "0  1098         50.0                4                   0    1          1   \n",
       "1   553         30.0                4                   0    5          0   \n",
       "2   523         30.0                4                   0    4          0   \n",
       "3   818         30.0                5                   0    4          0   \n",
       "4  1128         30.0                5                   0    4          0   \n",
       "\n",
       "   Light_conditions  \n",
       "0                 0  \n",
       "1                 2  \n",
       "2                 2  \n",
       "3                 2  \n",
       "4                 0  "
      ]
     },
     "execution_count": 12,
     "metadata": {},
     "output_type": "execute_result"
    }
   ],
   "source": [
    "#Finalized Data Frame, ready to implement models and check prediction\n",
    "df.head()"
   ]
  },
  {
   "cell_type": "markdown",
   "id": "a395dc93",
   "metadata": {},
   "source": [
    "# Query 1: Relationsip between hour, day, week, month with number of fatal accident"
   ]
  },
  {
   "cell_type": "code",
   "execution_count": 13,
   "id": "ef3a712b",
   "metadata": {},
   "outputs": [],
   "source": [
    "#creating function to add month column\n",
    "import datetime\n",
    "df['Month'] = pd.DatetimeIndex(df['Date']).month\n"
   ]
  },
  {
   "cell_type": "code",
   "execution_count": 14,
   "id": "966dab6f",
   "metadata": {},
   "outputs": [],
   "source": [
    "#creating function to add hour column\n",
    "df['Hour'] = pd.DatetimeIndex(df['Time']).month"
   ]
  },
  {
   "cell_type": "code",
   "execution_count": 20,
   "id": "d4b6305c",
   "metadata": {},
   "outputs": [
    {
     "data": {
      "text/html": [
       "<div>\n",
       "<style scoped>\n",
       "    .dataframe tbody tr th:only-of-type {\n",
       "        vertical-align: middle;\n",
       "    }\n",
       "\n",
       "    .dataframe tbody tr th {\n",
       "        vertical-align: top;\n",
       "    }\n",
       "\n",
       "    .dataframe thead th {\n",
       "        text-align: right;\n",
       "    }\n",
       "</style>\n",
       "<table border=\"1\" class=\"dataframe\">\n",
       "  <thead>\n",
       "    <tr style=\"text-align: right;\">\n",
       "      <th></th>\n",
       "      <th>Hour</th>\n",
       "      <th>Day</th>\n",
       "      <th>Month</th>\n",
       "      <th>Severity</th>\n",
       "    </tr>\n",
       "  </thead>\n",
       "  <tbody>\n",
       "    <tr>\n",
       "      <th>0</th>\n",
       "      <td>1</td>\n",
       "      <td>1</td>\n",
       "      <td>1</td>\n",
       "      <td>1</td>\n",
       "    </tr>\n",
       "    <tr>\n",
       "      <th>1</th>\n",
       "      <td>1</td>\n",
       "      <td>5</td>\n",
       "      <td>1</td>\n",
       "      <td>2</td>\n",
       "    </tr>\n",
       "    <tr>\n",
       "      <th>2</th>\n",
       "      <td>1</td>\n",
       "      <td>4</td>\n",
       "      <td>1</td>\n",
       "      <td>2</td>\n",
       "    </tr>\n",
       "    <tr>\n",
       "      <th>3</th>\n",
       "      <td>1</td>\n",
       "      <td>4</td>\n",
       "      <td>1</td>\n",
       "      <td>2</td>\n",
       "    </tr>\n",
       "    <tr>\n",
       "      <th>4</th>\n",
       "      <td>1</td>\n",
       "      <td>4</td>\n",
       "      <td>1</td>\n",
       "      <td>2</td>\n",
       "    </tr>\n",
       "  </tbody>\n",
       "</table>\n",
       "</div>"
      ],
      "text/plain": [
       "   Hour  Day  Month  Severity\n",
       "0     1    1      1         1\n",
       "1     1    5      1         2\n",
       "2     1    4      1         2\n",
       "3     1    4      1         2\n",
       "4     1    4      1         2"
      ]
     },
     "execution_count": 20,
     "metadata": {},
     "output_type": "execute_result"
    }
   ],
   "source": [
    "#getting a dataframe as per query\n",
    "q1_df=pd.DataFrame(data=df,columns=['Hour','Day','Month','Severity'])\n",
    "q1_df.head()"
   ]
  },
  {
   "cell_type": "code",
   "execution_count": 22,
   "id": "090461d9",
   "metadata": {},
   "outputs": [
    {
     "data": {
      "text/plain": [
       "<AxesSubplot:>"
      ]
     },
     "execution_count": 22,
     "metadata": {},
     "output_type": "execute_result"
    },
    {
     "data": {
      "image/png": "[encoded data removed]",
      "text/plain": [
       "<Figure size 432x288 with 2 Axes>"
      ]
     },
     "metadata": {
      "needs_background": "light"
     },
     "output_type": "display_data"
    }
   ],
   "source": [
    "#I highly prefer PLOTLY but my system not support it because it require to much processing and my system able to  process it but \n",
    "#not display.\n",
    "#So, I use Heat Maps to plot the results\n",
    "sns.heatmap(q1_df.corr())"
   ]
  },
  {
   "cell_type": "markdown",
   "id": "53c1c141",
   "metadata": {},
   "source": [
    "# Query 2: Affect of Age on the number of accidents:"
   ]
  },
  {
   "cell_type": "code",
   "execution_count": 16,
   "id": "254392c9",
   "metadata": {},
   "outputs": [],
   "source": [
    "#DataFrame according to 2nd query\n",
    "q2_df=  pd.DataFrame(data=df, columns=[ 'Gender', 'Age_Grp','Severity'])"
   ]
  },
  {
   "cell_type": "code",
   "execution_count": 17,
   "id": "2250de63",
   "metadata": {},
   "outputs": [
    {
     "data": {
      "text/html": [
       "<div>\n",
       "<style scoped>\n",
       "    .dataframe tbody tr th:only-of-type {\n",
       "        vertical-align: middle;\n",
       "    }\n",
       "\n",
       "    .dataframe tbody tr th {\n",
       "        vertical-align: top;\n",
       "    }\n",
       "\n",
       "    .dataframe thead th {\n",
       "        text-align: right;\n",
       "    }\n",
       "</style>\n",
       "<table border=\"1\" class=\"dataframe\">\n",
       "  <thead>\n",
       "    <tr style=\"text-align: right;\">\n",
       "      <th></th>\n",
       "      <th>Gender</th>\n",
       "      <th>Age_Grp</th>\n",
       "      <th>Severity</th>\n",
       "    </tr>\n",
       "  </thead>\n",
       "  <tbody>\n",
       "    <tr>\n",
       "      <th>0</th>\n",
       "      <td>1</td>\n",
       "      <td>4</td>\n",
       "      <td>1</td>\n",
       "    </tr>\n",
       "    <tr>\n",
       "      <th>1</th>\n",
       "      <td>1</td>\n",
       "      <td>5</td>\n",
       "      <td>2</td>\n",
       "    </tr>\n",
       "    <tr>\n",
       "      <th>2</th>\n",
       "      <td>1</td>\n",
       "      <td>5</td>\n",
       "      <td>2</td>\n",
       "    </tr>\n",
       "    <tr>\n",
       "      <th>3</th>\n",
       "      <td>1</td>\n",
       "      <td>4</td>\n",
       "      <td>2</td>\n",
       "    </tr>\n",
       "    <tr>\n",
       "      <th>4</th>\n",
       "      <td>1</td>\n",
       "      <td>5</td>\n",
       "      <td>2</td>\n",
       "    </tr>\n",
       "  </tbody>\n",
       "</table>\n",
       "</div>"
      ],
      "text/plain": [
       "   Gender  Age_Grp  Severity\n",
       "0       1        4         1\n",
       "1       1        5         2\n",
       "2       1        5         2\n",
       "3       1        4         2\n",
       "4       1        5         2"
      ]
     },
     "execution_count": 17,
     "metadata": {},
     "output_type": "execute_result"
    }
   ],
   "source": [
    "#Only males accidents but any kind of Severity\n",
    "q2_df=q2_df[q2_df.Gender ==1]\n",
    "q2_df.head()"
   ]
  },
  {
   "cell_type": "code",
   "execution_count": 18,
   "id": "9e9d7dfa",
   "metadata": {},
   "outputs": [
    {
     "data": {
      "text/plain": [
       "<AxesSubplot:>"
      ]
     },
     "execution_count": 18,
     "metadata": {},
     "output_type": "execute_result"
    },
    {
     "data": {
      "image/png": "[encoded data removed]",
      "text/plain": [
       "<Figure size 432x288 with 2 Axes>"
      ]
     },
     "metadata": {
      "needs_background": "light"
     },
     "output_type": "display_data"
    }
   ],
   "source": [
    "#Plot to show Correlation between Query 2 dataframe\n",
    "sns.heatmap(q2_df.corr())"
   ]
  },
  {
   "cell_type": "code",
   "execution_count": 19,
   "id": "65dfdf50",
   "metadata": {},
   "outputs": [
    {
     "name": "stderr",
     "output_type": "stream",
     "text": [
      "C:\\Users\\khalil\\anaconda3\\lib\\site-packages\\seaborn\\_decorators.py:36: FutureWarning: Pass the following variables as keyword args: x, y. From version 0.12, the only valid positional argument will be `data`, and passing other arguments without an explicit keyword will result in an error or misinterpretation.\n",
      "  warnings.warn(\n"
     ]
    },
    {
     "data": {
      "text/plain": [
       "Text(0.5, 1.0, 'Age vs Severity')"
      ]
     },
     "execution_count": 19,
     "metadata": {},
     "output_type": "execute_result"
    },
    {
     "data": {
      "image/png": "[encoded data removed]",
      "text/plain": [
       "<Figure size 1224x288 with 1 Axes>"
      ]
     },
     "metadata": {
      "needs_background": "light"
     },
     "output_type": "display_data"
    }
   ],
   "source": [
    "#Histogram\n",
    "plt.figure(figsize=(17,4))\n",
    "sns.barplot('Severity','Age_Grp',hue='Gender',data=q2_df,ci=None, palette='Set2')\n",
    "plt.legend(bbox_to_anchor=(1,1))\n",
    "plt.title('Age vs Severity')"
   ]
  },
  {
   "cell_type": "markdown",
   "id": "383d0dcc",
   "metadata": {},
   "source": [
    "<div class=\"alert alert-block alert-danger\">\n",
    "<b>\n",
    "\n",
    "It is seen that the Drivers who met with an accident were in the age range of 30-40 years.\n",
    "Usually, drivers who meet with an accident are males.\n",
    "</div>"
   ]
  },
  {
   "cell_type": "code",
   "execution_count": 20,
   "id": "6db9d8f0",
   "metadata": {},
   "outputs": [
    {
     "name": "stderr",
     "output_type": "stream",
     "text": [
      "C:\\Users\\khalil\\anaconda3\\lib\\site-packages\\seaborn\\_decorators.py:36: FutureWarning: Pass the following variables as keyword args: x, y. From version 0.12, the only valid positional argument will be `data`, and passing other arguments without an explicit keyword will result in an error or misinterpretation.\n",
      "  warnings.warn(\n"
     ]
    },
    {
     "data": {
      "text/plain": [
       "<AxesSubplot:xlabel='Severity', ylabel='Age_Grp'>"
      ]
     },
     "execution_count": 20,
     "metadata": {},
     "output_type": "execute_result"
    },
    {
     "data": {
      "image/png": "[encoded data removed]",
      "text/plain": [
       "<Figure size 864x288 with 1 Axes>"
      ]
     },
     "metadata": {
      "needs_background": "light"
     },
     "output_type": "display_data"
    }
   ],
   "source": [
    "#Just checking the Distribution on an entire Dataframe\n",
    "plt.figure(figsize=(12,4))\n",
    "sns.boxplot('Severity','Age_Grp',data=q2_df)"
   ]
  },
  {
   "cell_type": "markdown",
   "id": "32df5ba3",
   "metadata": {},
   "source": [
    "# Query 3: How the weather impact the number or severity of an accident?"
   ]
  },
  {
   "cell_type": "code",
   "execution_count": 21,
   "id": "05494795",
   "metadata": {},
   "outputs": [],
   "source": [
    "#Dataframe according to Query requirement \n",
    "q3_df=pd.DataFrame(data=df,columns=['Severity','Light_conditions','Weather_conditions'])"
   ]
  },
  {
   "cell_type": "code",
   "execution_count": 22,
   "id": "fa686e8a",
   "metadata": {},
   "outputs": [],
   "source": [
    "#For all kind of Weather Condition, listed below\n",
    "q3_df=q3_df[q3_df.Weather_conditions!=-1]"
   ]
  },
  {
   "cell_type": "code",
   "execution_count": 23,
   "id": "f0377f12",
   "metadata": {},
   "outputs": [
    {
     "data": {
      "text/plain": [
       "<AxesSubplot:>"
      ]
     },
     "execution_count": 23,
     "metadata": {},
     "output_type": "execute_result"
    },
    {
     "data": {
      "image/png": "[encoded data removed]",
      "text/plain": [
       "<Figure size 432x288 with 2 Axes>"
      ]
     },
     "metadata": {
      "needs_background": "light"
     },
     "output_type": "display_data"
    }
   ],
   "source": [
    "#Correlation in dataframe related to query 3\n",
    "sns.heatmap(q3_df.corr())"
   ]
  },
  {
   "cell_type": "code",
   "execution_count": 24,
   "id": "683773c3",
   "metadata": {},
   "outputs": [
    {
     "name": "stderr",
     "output_type": "stream",
     "text": [
      "C:\\Users\\khalil\\anaconda3\\lib\\site-packages\\seaborn\\_decorators.py:36: FutureWarning: Pass the following variables as keyword args: x, y. From version 0.12, the only valid positional argument will be `data`, and passing other arguments without an explicit keyword will result in an error or misinterpretation.\n",
      "  warnings.warn(\n"
     ]
    },
    {
     "data": {
      "text/plain": [
       "Text(0.5, 1.0, 'Weather vs Light/Time Condition')"
      ]
     },
     "execution_count": 24,
     "metadata": {},
     "output_type": "execute_result"
    },
    {
     "data": {
      "image/png": "[encoded data removed]",
      "text/plain": [
       "<Figure size 864x432 with 1 Axes>"
      ]
     },
     "metadata": {
      "needs_background": "light"
     },
     "output_type": "display_data"
    }
   ],
   "source": [
    "plt.figure(figsize=(12,6))\n",
    "sns.barplot('Weather_conditions','Light_conditions',data=q3_df, hue='Severity',ci=None, palette='rainbow')\n",
    "plt.legend(bbox_to_anchor=(1,1))\n",
    "plt.title('Weather vs Light/Time Condition')"
   ]
  },
  {
   "cell_type": "markdown",
   "id": "3d494f2b",
   "metadata": {},
   "source": [
    "<div class=\"alert alert-block alert-warning\">\n",
    "<b>\n",
    "\n",
    "Accidents usually take place in the afternoon:\n",
    "Accidents with Slight severity occured the most,\n",
    "Accidents ususally took place when the Weather conditions were fine and also there were'nt any high winds : meaning which the weather conditions didn't effectively contribute to occurences of accidents.\n",
    "    \n",
    "</div>"
   ]
  },
  {
   "cell_type": "markdown",
   "id": "9d14fc82",
   "metadata": {},
   "source": [
    "<div class=\"alert alert-block alert-info\">\n",
    "<b>\n",
    "\n",
    "\n",
    "Weather Conditions:\n",
    "\n",
    "1. Fine no high winds\n",
    "2. Raining no high winds\n",
    "3. Snowing no high winds\n",
    "4. Fine + high winds\n",
    "5. Raining + high winds\n",
    "6. Snowing + high winds\n",
    "7. Fog or mist\n",
    "8. Other\n",
    "9. Unknown\n",
    "    \n",
    "</div>"
   ]
  },
  {
   "cell_type": "code",
   "execution_count": 25,
   "id": "6feecb55",
   "metadata": {},
   "outputs": [
    {
     "data": {
      "text/plain": [
       "<AxesSubplot:xlabel='Severity', ylabel='count'>"
      ]
     },
     "execution_count": 25,
     "metadata": {},
     "output_type": "execute_result"
    },
    {
     "data": {
      "image/png": "[encoded data removed]",
      "text/plain": [
       "<Figure size 864x288 with 1 Axes>"
      ]
     },
     "metadata": {
      "needs_background": "light"
     },
     "output_type": "display_data"
    }
   ],
   "source": [
    "#Number of Accident Severities related to each weather condition \n",
    "plt.figure(figsize=(12,4))\n",
    "sns.countplot(x='Severity',data=q3_df,hue='Weather_conditions',palette='rainbow')"
   ]
  },
  {
   "cell_type": "markdown",
   "id": "d2954dc9",
   "metadata": {},
   "source": [
    "<div class=\"alert alert-block alert-danger\">\n",
    "<b>\n",
    "\n",
    "For both Histograms above and this one, Accident Severities are:\n",
    "Fatal (0),\n",
    "Serious (1),\n",
    "Slight   (2).\n",
    "</div>"
   ]
  },
  {
   "cell_type": "code",
   "execution_count": 26,
   "id": "690d6870",
   "metadata": {},
   "outputs": [
    {
     "data": {
      "text/plain": [
       "2    681568\n",
       "1    139563\n",
       "0      6730\n",
       "Name: Severity, dtype: int64"
      ]
     },
     "execution_count": 26,
     "metadata": {},
     "output_type": "execute_result"
    }
   ],
   "source": [
    "#Total Number of Accidents for each of 3 kinds\n",
    "df.Severity.value_counts()"
   ]
  },
  {
   "cell_type": "markdown",
   "id": "2a14cf9f",
   "metadata": {},
   "source": [
    "# Fore-Casting Fatal Accidents"
   ]
  },
  {
   "cell_type": "markdown",
   "id": "0a92517d",
   "metadata": {},
   "source": [
    "Fatal Accidents means Accident Severity should be 1 or max upto 2, So: "
   ]
  },
  {
   "cell_type": "code",
   "execution_count": 27,
   "id": "ebdec5e6",
   "metadata": {},
   "outputs": [],
   "source": [
    "#Creating a Dataframe according to Need\n",
    "fatal_df=pd.DataFrame(data=df,columns=['Gender','Age_Grp','Time','Severity'])"
   ]
  },
  {
   "cell_type": "markdown",
   "id": "77b0ec28",
   "metadata": {},
   "source": [
    "Severity = 1 corresponds to fatal accident and Gender = 1 corresponds to male driver"
   ]
  },
  {
   "cell_type": "code",
   "execution_count": 28,
   "id": "6d02f4dd",
   "metadata": {},
   "outputs": [
    {
     "data": {
      "text/html": [
       "<div>\n",
       "<style scoped>\n",
       "    .dataframe tbody tr th:only-of-type {\n",
       "        vertical-align: middle;\n",
       "    }\n",
       "\n",
       "    .dataframe tbody tr th {\n",
       "        vertical-align: top;\n",
       "    }\n",
       "\n",
       "    .dataframe thead th {\n",
       "        text-align: right;\n",
       "    }\n",
       "</style>\n",
       "<table border=\"1\" class=\"dataframe\">\n",
       "  <thead>\n",
       "    <tr style=\"text-align: right;\">\n",
       "      <th></th>\n",
       "      <th>Gender</th>\n",
       "      <th>Age_Grp</th>\n",
       "      <th>Time</th>\n",
       "      <th>Severity</th>\n",
       "    </tr>\n",
       "  </thead>\n",
       "  <tbody>\n",
       "    <tr>\n",
       "      <th>0</th>\n",
       "      <td>1</td>\n",
       "      <td>4</td>\n",
       "      <td>1098</td>\n",
       "      <td>1</td>\n",
       "    </tr>\n",
       "    <tr>\n",
       "      <th>1</th>\n",
       "      <td>1</td>\n",
       "      <td>5</td>\n",
       "      <td>553</td>\n",
       "      <td>2</td>\n",
       "    </tr>\n",
       "    <tr>\n",
       "      <th>2</th>\n",
       "      <td>1</td>\n",
       "      <td>5</td>\n",
       "      <td>523</td>\n",
       "      <td>2</td>\n",
       "    </tr>\n",
       "    <tr>\n",
       "      <th>3</th>\n",
       "      <td>1</td>\n",
       "      <td>4</td>\n",
       "      <td>818</td>\n",
       "      <td>2</td>\n",
       "    </tr>\n",
       "    <tr>\n",
       "      <th>4</th>\n",
       "      <td>1</td>\n",
       "      <td>5</td>\n",
       "      <td>1128</td>\n",
       "      <td>2</td>\n",
       "    </tr>\n",
       "  </tbody>\n",
       "</table>\n",
       "</div>"
      ],
      "text/plain": [
       "   Gender  Age_Grp  Time  Severity\n",
       "0       1        4  1098         1\n",
       "1       1        5   553         2\n",
       "2       1        5   523         2\n",
       "3       1        4   818         2\n",
       "4       1        5  1128         2"
      ]
     },
     "execution_count": 28,
     "metadata": {},
     "output_type": "execute_result"
    }
   ],
   "source": [
    "#We select only Males Accidents or Driver Cases and any kind of Severity\n",
    "fatal_df=fatal_df[(fatal_df.Gender!=-1)  & (fatal_df.Severity!=-1)]\n",
    "fatal_df.head()"
   ]
  },
  {
   "cell_type": "markdown",
   "id": "b2694141",
   "metadata": {},
   "source": []
  },
  {
   "cell_type": "markdown",
   "id": "770b45fe",
   "metadata": {},
   "source": [
    "# Prediction"
   ]
  },
  {
   "cell_type": "code",
   "execution_count": 29,
   "id": "c68426b6",
   "metadata": {},
   "outputs": [],
   "source": [
    "#Splitting the Dataframe inti Train and Test\n",
    "from sklearn.model_selection import train_test_split"
   ]
  },
  {
   "cell_type": "code",
   "execution_count": 30,
   "id": "6ea656aa",
   "metadata": {},
   "outputs": [],
   "source": [
    "#Assigining Response Variable, in this case Severity\n",
    "X=fatal_df.drop('Severity',axis=1)\n",
    "y=fatal_df['Severity']"
   ]
  },
  {
   "cell_type": "code",
   "execution_count": 31,
   "id": "fa44b4e0",
   "metadata": {},
   "outputs": [],
   "source": [
    "#Robust-Scaler a pre-Processing Technique to increase Accuracy\n",
    "from sklearn.preprocessing import RobustScaler\n",
    "scaler = RobustScaler()"
   ]
  },
  {
   "cell_type": "code",
   "execution_count": 32,
   "id": "f38ccb86",
   "metadata": {},
   "outputs": [],
   "source": [
    "#Now Parse the dataframe into Test and Train sets\n",
    "x_df_scaled = scaler.fit_transform(X)\n",
    "x_train, x_test, y_train, y_test = train_test_split(x_df_scaled, y)"
   ]
  },
  {
   "cell_type": "markdown",
   "id": "7ce45f2a",
   "metadata": {},
   "source": [
    "# Implementation of Different Models For Prediction"
   ]
  },
  {
   "cell_type": "code",
   "execution_count": 33,
   "id": "fea57304",
   "metadata": {},
   "outputs": [
    {
     "data": {
      "text/plain": [
       "DecisionTreeClassifier()"
      ]
     },
     "execution_count": 33,
     "metadata": {},
     "output_type": "execute_result"
    }
   ],
   "source": [
    "#1st Model: Decision Tree Classifier (DTC)\n",
    "from sklearn.tree import DecisionTreeClassifier #Importing DTC from Library\n",
    "DTC= DecisionTreeClassifier() \n",
    "DTC.fit(x_train,y_train) #Fitting Test and Train sets on DTC"
   ]
  },
  {
   "cell_type": "code",
   "execution_count": 34,
   "id": "3fe56d78",
   "metadata": {},
   "outputs": [],
   "source": [
    "predictions= DTC.predict(x_test) #Predicting DTC on Test set"
   ]
  },
  {
   "cell_type": "code",
   "execution_count": 35,
   "id": "8bd87efd",
   "metadata": {},
   "outputs": [
    {
     "name": "stdout",
     "output_type": "stream",
     "text": [
      "              precision    recall  f1-score   support\n",
      "\n",
      "           0       0.03      0.00      0.01      1677\n",
      "           1       0.25      0.02      0.03     34938\n",
      "           2       0.82      0.99      0.90    170351\n",
      "\n",
      "    accuracy                           0.82    206966\n",
      "   macro avg       0.37      0.34      0.31    206966\n",
      "weighted avg       0.72      0.82      0.75    206966\n",
      "\n"
     ]
    }
   ],
   "source": [
    "#Error Matrix to analyze the Performance of our model that is: DTC\n",
    "from sklearn.metrics import classification_report, confusion_matrix\n",
    "print(classification_report(y_test,predictions))"
   ]
  },
  {
   "cell_type": "markdown",
   "id": "c81a2015",
   "metadata": {},
   "source": [
    "<div class=\"alert alert-block alert-success\">\n",
    "<b>\n",
    "\n",
    "Matrix shows that the Model Prediction is 82% for Severity 2 (that means model is 82 times predict correctly out of 100), and Similarly for severity value 1 model accuracy is 25% and 3% for Severity 1. \n",
    "\n",
    "</div>"
   ]
  },
  {
   "cell_type": "code",
   "execution_count": 37,
   "id": "af1dc40b",
   "metadata": {},
   "outputs": [
    {
     "name": "stdout",
     "output_type": "stream",
     "text": [
      "Accuracy: 0.82\n"
     ]
    }
   ],
   "source": [
    "#2nd Model: KNN Model\n",
    "from sklearn.neighbors import KNeighborsClassifier #Importing the Model from Library\n",
    "KNC = KNeighborsClassifier(n_neighbors=25) #82% Accuracy starts from 15 Number of Neighbors and Decrease after 25 Neighbours\n",
    "KNC.fit(x_train, y_train) #Fitting\n",
    "KNC.predict(x_test) #Predicting the Model\n",
    "print('Accuracy: {:.2f}'.format(KNC.score(x_test, y_test))) #Accuracy Score of Model on Test Sets"
   ]
  },
  {
   "cell_type": "code",
   "execution_count": 38,
   "id": "7d2368c2",
   "metadata": {},
   "outputs": [
    {
     "name": "stderr",
     "output_type": "stream",
     "text": [
      "[MLENS] backend: threading\n"
     ]
    }
   ],
   "source": [
    "#3rd Model: Ensemble Technique in which I select my 2 best accurate Models, so to check accuracy is increased or not\n",
    "from mlens.ensemble import SuperLearner  #Super learner is a technique to join more than 1 models\n",
    "from mlens.model_selection import Evaluator\n",
    "from mlens.metrics import make_scorer\n",
    "from sklearn.metrics import accuracy_score"
   ]
  },
  {
   "cell_type": "code",
   "execution_count": 39,
   "id": "b8b52c31",
   "metadata": {},
   "outputs": [],
   "source": [
    "#Super Learner Technique is used for Ensembing Method\n",
    "ensemble = SuperLearner(scorer=accuracy_score, random_state=555, verbose=2)"
   ]
  },
  {
   "cell_type": "code",
   "execution_count": 40,
   "id": "1922b370",
   "metadata": {},
   "outputs": [
    {
     "data": {
      "text/plain": [
       "SuperLearner(array_check=None, backend=None, folds=2,\n",
       "       layers=[Layer(backend='threading', dtype=<class 'numpy.float32'>, n_jobs=-1,\n",
       "   name='layer-1', propagate_features=None, raise_on_exception=True,\n",
       "   random_state=4782, shuffle=False,\n",
       "   stack=[Group(backend='threading', dtype=<class 'numpy.float32'>,\n",
       "   indexer=FoldIndex(X=None, folds=2, raise_on_ex...895ADC0>)],\n",
       "   n_jobs=-1, name='group-0', raise_on_exception=True, transformers=[])],\n",
       "   verbose=1)],\n",
       "       model_selection=False, n_jobs=None, raise_on_exception=True,\n",
       "       random_state=555, sample_size=20,\n",
       "       scorer=<function accuracy_score at 0x0000021D2895ADC0>,\n",
       "       shuffle=False, verbose=2)"
      ]
     },
     "execution_count": 40,
     "metadata": {},
     "output_type": "execute_result"
    }
   ],
   "source": [
    "#K-Nearest-Neighbour and Decision-Tree-Classifiers are my most best accurate Models, So i combine them here\n",
    "#First Layer\n",
    "ensemble.add([KNC, DTC])"
   ]
  },
  {
   "cell_type": "code",
   "execution_count": 42,
   "id": "e5aa15e7",
   "metadata": {},
   "outputs": [
    {
     "data": {
      "text/plain": [
       "SuperLearner(array_check=None, backend=None, folds=2,\n",
       "       layers=[Layer(backend='threading', dtype=<class 'numpy.float32'>, n_jobs=-1,\n",
       "   name='layer-1', propagate_features=None, raise_on_exception=True,\n",
       "   random_state=4782, shuffle=False,\n",
       "   stack=[Group(backend='threading', dtype=<class 'numpy.float32'>,\n",
       "   indexer=FoldIndex(X=None, folds=2, raise_on_ex...895ADC0>)],\n",
       "   n_jobs=-1, name='group-1', raise_on_exception=True, transformers=[])],\n",
       "   verbose=1)],\n",
       "       model_selection=False, n_jobs=None, raise_on_exception=True,\n",
       "       random_state=555, sample_size=20,\n",
       "       scorer=<function accuracy_score at 0x0000021D2895ADC0>,\n",
       "       shuffle=False, verbose=2)"
      ]
     },
     "execution_count": 42,
     "metadata": {},
     "output_type": "execute_result"
    }
   ],
   "source": [
    "#Final or 2nd Layer\n",
    "from sklearn.ensemble import BaggingClassifier\n",
    "ensemble.add_meta(BaggingClassifier())"
   ]
  },
  {
   "cell_type": "code",
   "execution_count": 43,
   "id": "f4cb114f",
   "metadata": {},
   "outputs": [
    {
     "name": "stdout",
     "output_type": "stream",
     "text": [
      "\n",
      "Fitting 2 layers\n",
      "Processing layer-1             done | 00:05:16\n",
      "Processing layer-2             done | 00:00:01\n",
      "Fit complete                        | 00:05:18\n"
     ]
    },
    {
     "data": {
      "text/plain": [
       "SuperLearner(array_check=None, backend=None, folds=2,\n",
       "       layers=[Layer(backend='threading', dtype=<class 'numpy.float32'>, n_jobs=-1,\n",
       "   name='layer-1', propagate_features=None, raise_on_exception=True,\n",
       "   random_state=4782, shuffle=False,\n",
       "   stack=[Group(backend='threading', dtype=<class 'numpy.float32'>,\n",
       "   indexer=FoldIndex(X=None, folds=2, raise_on_ex...895ADC0>)],\n",
       "   n_jobs=-1, name='group-1', raise_on_exception=True, transformers=[])],\n",
       "   verbose=1)],\n",
       "       model_selection=False, n_jobs=None, raise_on_exception=True,\n",
       "       random_state=555, sample_size=20,\n",
       "       scorer=<function accuracy_score at 0x0000021D2895ADC0>,\n",
       "       shuffle=False, verbose=2)"
      ]
     },
     "execution_count": 43,
     "metadata": {},
     "output_type": "execute_result"
    }
   ],
   "source": [
    "#Fitting\n",
    "ensemble.fit(x_train, y_train)"
   ]
  },
  {
   "cell_type": "code",
   "execution_count": 44,
   "id": "1b9622c6",
   "metadata": {},
   "outputs": [
    {
     "name": "stdout",
     "output_type": "stream",
     "text": [
      "\n",
      "Predicting 2 layers\n",
      "Processing layer-1             done | 00:01:40\n",
      "Processing layer-2             done | 00:00:00\n",
      "Predict complete                    | 00:01:41\n",
      "Accuracy - Train :  0.8233549956111742\n",
      "\n",
      "Predicting 2 layers\n",
      "Processing layer-1             done | 00:00:32\n",
      "Processing layer-2             done | 00:00:00\n",
      "Predict complete                    | 00:00:32\n",
      "Accuracy - Test :  0.8230868838359924\n"
     ]
    }
   ],
   "source": [
    "print (\"Accuracy - Train : \", sklearn.metrics.accuracy_score(ensemble.predict(x_train), y_train))\n",
    "print (\"Accuracy - Test : \", sklearn.metrics.accuracy_score(ensemble.predict(x_test), y_test))"
   ]
  },
  {
   "cell_type": "code",
   "execution_count": 45,
   "id": "11455723",
   "metadata": {},
   "outputs": [
    {
     "name": "stdout",
     "output_type": "stream",
     "text": [
      "Fit data:\n",
      "                                   score-m  score-s    ft-m  ft-s   pt-m   pt-s\n",
      "layer-1  decisiontreeclassifier       0.81     0.00  226.63  0.04   0.15   0.01\n",
      "layer-1  kneighborsclassifier         0.82     0.00   38.47  4.33  57.24  10.28\n",
      "\n"
     ]
    }
   ],
   "source": [
    "print(\"Fit data:\\n%r\" % ensemble.data)"
   ]
  },
  {
   "cell_type": "code",
   "execution_count": null,
   "id": "e6ecf1e3",
   "metadata": {},
   "outputs": [],
   "source": [
    "# summary at the top r begining  of this file, make it ready for submission \n",
    "#Make slides put theory whay where u select project and what methods u apply what are the results and output pictures"
   ]
  },
  {
   "cell_type": "markdown",
   "id": "2a8eb970",
   "metadata": {},
   "source": [
    "# Conclusion"
   ]
  },
  {
   "cell_type": "markdown",
   "id": "87282857",
   "metadata": {},
   "source": [
    "As above we Analyze:\n",
    "1. Bi-cycle Accidents of Males only.\n",
    "2. Specific Age-Group in which most of the Accidents occured.\n",
    "3. Weather or Light Conditions that can cause bi-cycle Accidents on Road.\n",
    "4. Now finally our Target was to check or to Predict the Severity of an Accident by using above all 3 Variables, ehich means       whether the Accident is Fatal, Serious or Slight.\n",
    "    In the Last Ensemble Method, in which I combine 2 Models Decision Tree Classifier and K-Nearest Neighbour Classifer we get \n",
    "    the maximum Accuracy of 82% by using 'Severity' as a Response Variable, which means that out of 100 times our Model Predict     82 times Accuratley the Severity of Bi-Cycle Accidents."
   ]
  },
  {
   "cell_type": "code",
   "execution_count": null,
   "id": "d1f3e1b5",
   "metadata": {},
   "outputs": [],
   "source": []
  },
  {
   "cell_type": "code",
   "execution_count": null,
   "id": "04418b7d",
   "metadata": {},
   "outputs": [],
   "source": []
  }
 ],
 "metadata": {
  "kernelspec": {
   "display_name": "Python 3 (ipykernel)",
   "language": "python",
   "name": "python3"
  },
  "language_info": {
   "codemirror_mode": {
    "name": "ipython",
    "version": 3
   },
   "file_extension": ".py",
   "mimetype": "text/x-python",
   "name": "python",
   "nbconvert_exporter": "python",
   "pygments_lexer": "ipython3",
   "version": "3.9.7"
  }
 },
 "nbformat": 4,
 "nbformat_minor": 5
}
